{
 "cells": [
  {
   "cell_type": "code",
   "execution_count": 1,
   "metadata": {},
   "outputs": [],
   "source": [
    "from selenium import webdriver\n",
    "import pandas as pd \n",
    "import numpy as np \n",
    "import time\n",
    "import datetime\n",
    "import subprocess\n",
    "import re\n",
    "import os \n",
    "import requests"
   ]
  },
  {
   "cell_type": "code",
   "execution_count": 2,
   "metadata": {},
   "outputs": [],
   "source": [
    "keywords = [\"wikipedia\"]\n",
    "journals = ['information systems research', 'mis quarterly', 'journal of management information systems',\n",
    " 'journal of the association for information systems', 'management science', 'operational research']  # source: \"MISQ\"\n",
    "# journals = ['information systems research']\n",
    "# authors = [\"Kuznets\"]  # author:Kuznets\n",
    "fpath = \"/Users/Nico/test/test_googlecrawer\""
   ]
  },
  {
   "cell_type": "code",
   "execution_count": 3,
   "metadata": {},
   "outputs": [],
   "source": [
    "alias = {'information systems research':\"ISR\", 'mis quarterly':'MISQ', 'journal of management information systems':\"JMIS\",\n",
    "         'journal of the association for information systems':\"JAIS\", 'management science':'MS', 'operational research':\"OR\"}"
   ]
  },
  {
   "cell_type": "code",
   "execution_count": 7,
   "metadata": {},
   "outputs": [],
   "source": [
    "# options = webdriver.ChromeOptions()\n",
    "# # options.add_argument('headless')\n",
    "\n",
    "# options.binary_location = '/usr/local/bin/chromedriver'\n",
    "# options.add_argument('headless')\n",
    "# options.add_argument(\"--no-sandbox\");\n",
    "# options.add_argument(\"--disable-dev-shm-usage\")"
   ]
  },
  {
   "cell_type": "code",
   "execution_count": 4,
   "metadata": {},
   "outputs": [],
   "source": [
    "def getbibTeX(article, driver):\n",
    "    bib = article.find_element_by_css_selector(\"div[class=gs_fl]\").find_element_by_css_selector(\"a[class=gs_or_cit\\ gs_nph]\")\n",
    "    bib.click()\n",
    "    time.sleep(2)  ## sleep wait for the ajax to load \n",
    "    driver.find_element_by_css_selector(\"div[id=gs_citi]\").find_element_by_css_selector(\"a[class=gs_citi]\").click()\n",
    "    bib_text = driver.find_element_by_tag_name(\"body\").text.replace(\"\\n\", \"\")\n",
    "    driver.back()\n",
    "    driver.find_element_by_css_selector(\"span[class=gs_ico]\").click()\n",
    "    return bib_text"
   ]
  },
  {
   "cell_type": "code",
   "execution_count": 130,
   "metadata": {},
   "outputs": [
    {
     "data": {
      "text/plain": [
       "\"@article{birdsall1997asset,  title={Asset inequality matters: an assessment of the World Bank's approach to poverty reduction},  author={Birdsall, Nancy and Londo{\\\\~n}o, Juan Luis},  journal={The American Economic Review},  volume={87},  number={2},  pages={32--37},  year={1997},  publisher={JSTOR}}\""
      ]
     },
     "execution_count": 130,
     "metadata": {},
     "output_type": "execute_result"
    }
   ],
   "source": [
    "getbibTeX(article[2], driver)"
   ]
  },
  {
   "cell_type": "code",
   "execution_count": 148,
   "metadata": {},
   "outputs": [],
   "source": [
    "def getInfo(article, driver):\n",
    "    default = {\"title\": \"NA\", \"author\": \"NA\", \"journal\": \"NA\", \"year\":\"NA\"}\n",
    "    default['title'] = article.find_element_by_class_name(\"gs_rt\").text.lower()\n",
    "    infobox = article.find_element_by_class_name(\"gs_a\").text\n",
    "    default['author'], default['journal'], default['year'] = parse(infobox)\n",
    "    return default"
   ]
  },
  {
   "cell_type": "code",
   "execution_count": 149,
   "metadata": {},
   "outputs": [
    {
     "data": {
      "text/plain": [
       "{'title': 'economic growth and income inequality',\n",
       " 'author': 's kuznets',\n",
       " 'journal': 'the american economic review',\n",
       " 'year': '1955'}"
      ]
     },
     "execution_count": 149,
     "metadata": {},
     "output_type": "execute_result"
    }
   ],
   "source": [
    "getInfo(article[0], driver)"
   ]
  },
  {
   "cell_type": "code",
   "execution_count": 131,
   "metadata": {},
   "outputs": [],
   "source": [
    "def getPdf(article, driver):\n",
    "    try:\n",
    "        tmp = article.find_element_by_css_selector(\"div[class=gs_or_ggsm\")\n",
    "        pdf_link = tmp.find_element_by_tag_name(\"a\").get_attribute(\"href\")\n",
    "    except:\n",
    "        pdf_link = \"NA\"\n",
    "    return pdf_link"
   ]
  },
  {
   "cell_type": "code",
   "execution_count": 138,
   "metadata": {},
   "outputs": [
    {
     "data": {
      "text/plain": [
       "'http://www.diva-portal.org/smash/get/diva2:338002/FULLTEXT01.pdf'"
      ]
     },
     "execution_count": 138,
     "metadata": {},
     "output_type": "execute_result"
    }
   ],
   "source": [
    "getPdf(article[1], driver)"
   ]
  },
  {
   "cell_type": "code",
   "execution_count": 5,
   "metadata": {},
   "outputs": [],
   "source": [
    "def downloadPdf(output, link):\n",
    "    response = requests.get(link)\n",
    "    with open(output, 'wb') as f:\n",
    "        f.write(response.content)"
   ]
  },
  {
   "cell_type": "code",
   "execution_count": 6,
   "metadata": {},
   "outputs": [],
   "source": [
    "def parse(infobox):\n",
    "    infobox = infobox.lower().split(\"-\")\n",
    "    infobox = [c.strip() for c in infobox]\n",
    "    author = infobox[0].split(\",\")[0]\n",
    "    journal = infobox[1].split(\",\")[0]\n",
    "    year = infobox[1].split(\",\")[1].strip()\n",
    "    return author, journal, year"
   ]
  },
  {
   "cell_type": "code",
   "execution_count": 7,
   "metadata": {},
   "outputs": [],
   "source": [
    "# for test\n",
    "search_keyword = '''online communities'''\n",
    "driver = webdriver.Chrome()\n",
    "driver.execute_script(\"window.scrollTo(0, document.body.scrollHeight);\")\n",
    "driver.get('https://scholar.google.com/')\n",
    "input_element = driver.find_element_by_name(\"q\")\n",
    "input_element.clear()\n",
    "input_element.send_keys(search_keyword)\n",
    "input_element.submit()\n",
    "elements = driver.find_elements_by_css_selector(\"div[class=gs_r\\ gs_or\\ gs_scl]\")"
   ]
  },
  {
   "cell_type": "code",
   "execution_count": 33,
   "metadata": {},
   "outputs": [
    {
     "data": {
      "text/plain": [
       "'[PDF] researchgate.net\\nFull View'"
      ]
     },
     "execution_count": 33,
     "metadata": {},
     "output_type": "execute_result"
    }
   ],
   "source": [
    "elements[3].find_element_by_class_name(\"gs_fl\").text"
   ]
  },
  {
   "cell_type": "code",
   "execution_count": 4,
   "metadata": {},
   "outputs": [],
   "source": [
    "class Article:\n",
    "    def __init__(self, keywords, target_journal, folder):\n",
    "        self.keywords = keywords\n",
    "        self.target_journal = target_journal\n",
    "        self.output_folder = folder\n",
    "        self.create_folder()\n",
    "        self.total_article = {}\n",
    "    \n",
    "    def create_folder(self):\n",
    "        self.output_fpath = \"/\".join([self.output_folder, self.keywords, self.target_journal])\n",
    "        if not os.path.exists(self.output_fpath):\n",
    "            os.makedirs(self.output_fpath)\n",
    "            print('created folder {0}'.format(self.output_fpath))\n",
    "    \n",
    "    def getInfo(self, article, driver):\n",
    "        default = {\"title\": \"NA\", \"author\": \"NA\", \"journal\": \"NA\", \"year\":\"NA\", \"log\": \"NA\"}\n",
    "        default['title'] = article.find_element_by_class_name(\"gs_rt\").text.lower()\n",
    "        default['title'] = re.sub(\"[^a-z0-9 ]\", \"\", default['title'])\n",
    "        infobox = article.find_element_by_class_name(\"gs_a\").text\n",
    "        default['author'], default['journal'], default['year'] = parse(infobox)\n",
    "        return default\n",
    "    \n",
    "    def getPdf(self, article, driver):\n",
    "        tmp = article.find_element_by_css_selector(\"div[class=gs_or_ggsm\")\n",
    "        pdf_link = tmp.find_element_by_tag_name(\"a\").get_attribute(\"href\")\n",
    "        return pdf_link\n",
    "    \n",
    "    def getFileName(self, alias=alias):\n",
    "        by = [\"author\", \"year\", \"title\", \"journal\"]\n",
    "        if alias:\n",
    "            if self.info['journal'] in alias.keys():\n",
    "                self.info['journal-short'] = alias[self.info['journal']]\n",
    "                by = [\"author\", \"year\", \"title\", \"journal-short\"]\n",
    "        if len(self.info['title'].split(\" \")) > 10:\n",
    "            self.info['title-short'] = \" \".join(self.info['title'].split(\" \")[:10])\n",
    "            if \"journal-short\" in self.info.keys():\n",
    "                by = [\"author\", \"year\", \"title-short\", \"journal-short\"]\n",
    "            else:\n",
    "                by = [\"author\", \"year\", \"title-short\", \"journal\"]\n",
    "        filename = \"-\".join([self.info[c] for c in by]) + \".pdf\"\n",
    "        return filename\n",
    "    \n",
    "    def fit(self, article, driver, num):\n",
    "        try:\n",
    "            self.info = self.getInfo(article, driver)\n",
    "        except:\n",
    "            print(\"article info parse error!\")\n",
    "            self.info = None\n",
    "        if self.info:\n",
    "            try:\n",
    "                self.pdf = self.getPdf(article, driver)\n",
    "            except:\n",
    "                self.info['log'] = \"pdf missing\"\n",
    "                self.pdf = None\n",
    "            if self.pdf:\n",
    "                self.filename = self.getFileName()\n",
    "                output = self.output_fpath + \"/\" + self.filename\n",
    "                try:\n",
    "                    downloadPdf(output, self.pdf)\n",
    "                except:\n",
    "                    self.log = self.info['log'] + \"||| pdf download error\"\n",
    "        self.total_article[num] = self.info\n",
    "#         if hasattr(self, 'log'):\n",
    "#             now = datetime.datetime.now()\n",
    "#             logfile_path = self.output_fpath + \"/\" + \"log_{0}.txt\".format(now.strftime(\"%m-%d-%Y\"))\n",
    "#             if not os.path.exists(logfile_path):\n",
    "#                 subprocess.call(\"touch {0}\".format(logfile_path), shell=True)\n",
    "#             with open(logfile_path, \"a\") as f:\n",
    "#                 f.writelines(self.log)"
   ]
  },
  {
   "cell_type": "code",
   "execution_count": 33,
   "metadata": {},
   "outputs": [],
   "source": [
    "def run(keywords, journals, recursive = 6):\n",
    "    driver = webdriver.Chrome()\n",
    "    driver.execute_script(\"window.scrollTo(0, document.body.scrollHeight);\")\n",
    "    driver.get('https://scholar.google.com/')\n",
    "    for i in keywords:\n",
    "        for j in journals:\n",
    "            cnt = 1\n",
    "            articles = Article(i, j, fpath)\n",
    "            search_keyword = \" \".join([i.lower(), '''source:\"{}\"'''.format(j.lower())])\n",
    "            print(\"current search key: {0}\".format(search_keyword))\n",
    "            input_element = driver.find_element_by_name(\"q\")\n",
    "            input_element.clear()\n",
    "            input_element.send_keys(search_keyword)\n",
    "            input_element.submit()\n",
    "            time.sleep(2)\n",
    "            for n in range(recursive):\n",
    "                driver.execute_script(\"window.scrollTo(0, document.body.scrollHeight);\")\n",
    "                elements = driver.find_elements_by_css_selector(\"div[class=gs_r\\ gs_or\\ gs_scl]\")\n",
    "                for e in elements:\n",
    "                    try:\n",
    "                        articles.fit(e, driver, cnt)\n",
    "                    except:\n",
    "                        print(\"page {} number {} parse error!\".format(n, cnt))\n",
    "                    cnt += 1\n",
    "                try:\n",
    "                    driver.find_element_by_css_selector(\"span[class=gs_ico\\ gs_ico_nav_next]\").click()\n",
    "                    time.sleep(5)\n",
    "                except:\n",
    "                    pass\n",
    "            log = pd.DataFrame(articles.total_article).T\n",
    "            now = datetime.datetime.now()\n",
    "            log.to_csv(articles.output_fpath+\"/\"+\"logfile_{}.txt\".format(now.strftime(\"%m-%d-%Y\")), sep=\"\\t\")\n",
    "    driver.quit()"
   ]
  },
  {
   "cell_type": "code",
   "execution_count": 93,
   "metadata": {},
   "outputs": [],
   "source": [
    "# article = driver.find_element_by_css_selector(\"div[class^=gs_ri\")"
   ]
  },
  {
   "cell_type": "code",
   "execution_count": 34,
   "metadata": {},
   "outputs": [],
   "source": [
    "journals = ['journal of management information systems',\n",
    " 'journal of the association for information systems', 'management science', 'operational research']"
   ]
  },
  {
   "cell_type": "code",
   "execution_count": 35,
   "metadata": {},
   "outputs": [
    {
     "name": "stdout",
     "output_type": "stream",
     "text": [
      "current search key: wikipedia source:\"journal of management information systems\"\n",
      "created folder /Users/Nico/test/test_googlecrawer/wikipedia/journal of the association for information systems\n",
      "current search key: wikipedia source:\"journal of the association for information systems\"\n",
      "article info parse error!\n",
      "article info parse error!\n",
      "created folder /Users/Nico/test/test_googlecrawer/wikipedia/management science\n",
      "current search key: wikipedia source:\"management science\"\n",
      "article info parse error!\n",
      "article info parse error!\n",
      "created folder /Users/Nico/test/test_googlecrawer/wikipedia/operational research\n",
      "current search key: wikipedia source:\"operational research\"\n",
      "article info parse error!\n",
      "article info parse error!\n",
      "article info parse error!\n",
      "article info parse error!\n",
      "article info parse error!\n"
     ]
    }
   ],
   "source": [
    "run(keywords, journals, recursive=6)"
   ]
  },
  {
   "cell_type": "code",
   "execution_count": null,
   "metadata": {},
   "outputs": [],
   "source": []
  }
 ],
 "metadata": {
  "kernelspec": {
   "display_name": "Python 3",
   "language": "python",
   "name": "python3"
  },
  "language_info": {
   "codemirror_mode": {
    "name": "ipython",
    "version": 3
   },
   "file_extension": ".py",
   "mimetype": "text/x-python",
   "name": "python",
   "nbconvert_exporter": "python",
   "pygments_lexer": "ipython3",
   "version": "3.6.5"
  }
 },
 "nbformat": 4,
 "nbformat_minor": 2
}
